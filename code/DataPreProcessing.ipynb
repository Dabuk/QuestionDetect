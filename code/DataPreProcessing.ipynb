{
 "cells": [
  {
   "cell_type": "code",
   "execution_count": 1,
   "metadata": {
    "collapsed": true
   },
   "outputs": [],
   "source": [
    "## preprocessing\n",
    "##remove special characters except . , ? ! (check for , in test data. if it isn't there remove in train)\n",
    "#remove hyperlinks (replace with \"hyperlink\"), emojis (replace with \"emoji\"), ellipses, . . ., \n",
    "# lower case all\n",
    "import re\n",
    "import random\n",
    "import json"
   ]
  },
  {
   "cell_type": "code",
   "execution_count": 28,
   "metadata": {
    "collapsed": true
   },
   "outputs": [],
   "source": [
    "#Friends Script Data"
   ]
  },
  {
   "cell_type": "code",
   "execution_count": 3,
   "metadata": {
    "collapsed": true
   },
   "outputs": [],
   "source": [
    "f = open('twitter_reddit_chat/friends-final.txt')"
   ]
  },
  {
   "cell_type": "code",
   "execution_count": 4,
   "metadata": {
    "collapsed": true
   },
   "outputs": [],
   "source": [
    "friendsdata = f.read().split('\\n')"
   ]
  },
  {
   "cell_type": "code",
   "execution_count": 5,
   "metadata": {
    "collapsed": true
   },
   "outputs": [],
   "source": [
    "dias = []\n",
    "for i,x in enumerate(friendsdata[:-1]):\n",
    "    x = x.split('\\t')[5].strip()\n",
    "    if x is not '':\n",
    "        dias.append(x).lower()\n",
    "dias = dias[1:] # remove header\n",
    "dias = list(set(dias))"
   ]
  },
  {
   "cell_type": "code",
   "execution_count": null,
   "metadata": {
    "collapsed": true
   },
   "outputs": [],
   "source": []
  },
  {
   "cell_type": "code",
   "execution_count": null,
   "metadata": {
    "collapsed": true
   },
   "outputs": [],
   "source": []
  },
  {
   "cell_type": "code",
   "execution_count": null,
   "metadata": {
    "collapsed": true
   },
   "outputs": [],
   "source": [
    "def processFile(file)\n",
    "    f = open(file)'twitter_reddit_chat/MovieCorpus.txt')\n",
    "    tempdat = f.read().split('\\n')\n",
    "    newdat = []\n",
    "    for i,x in enumerate(tempdat):\n",
    "        if x is not '':\n",
    "            newdat.append(x).lower()\n",
    "    return newdat"
   ]
  },
  {
   "cell_type": "code",
   "execution_count": 7,
   "metadata": {
    "collapsed": true
   },
   "outputs": [],
   "source": [
    "# MovieCorpus.txt"
   ]
  },
  {
   "cell_type": "code",
   "execution_count": 8,
   "metadata": {
    "collapsed": true
   },
   "outputs": [],
   "source": [
    "moviecorp = processFile('twitter_reddit_chat/MovieCorpus.txt')"
   ]
  },
  {
   "cell_type": "code",
   "execution_count": 12,
   "metadata": {
    "collapsed": true
   },
   "outputs": [],
   "source": [
    "# TwitterLowerAsciiCorpus.txt"
   ]
  },
  {
   "cell_type": "code",
   "execution_count": 15,
   "metadata": {
    "collapsed": true
   },
   "outputs": [],
   "source": [
    "tweetcorp = processFile('twitter_reddit_chat/TwitterLowerAsciiCorpus.txt')"
   ]
  },
  {
   "cell_type": "code",
   "execution_count": 16,
   "metadata": {
    "collapsed": true
   },
   "outputs": [],
   "source": [
    "## ijcnlp"
   ]
  },
  {
   "cell_type": "code",
   "execution_count": null,
   "metadata": {
    "collapsed": true
   },
   "outputs": [],
   "source": [
    "dailydia = processFile('twitter_reddit_chat/ijcnlp_dailydialog/dialogues_text.txt')"
   ]
  },
  {
   "cell_type": "code",
   "execution_count": 20,
   "metadata": {
    "collapsed": true
   },
   "outputs": [],
   "source": [
    "## conv ai2"
   ]
  },
  {
   "cell_type": "code",
   "execution_count": null,
   "metadata": {
    "collapsed": true
   },
   "outputs": [],
   "source": [
    "convai2data = processFile('twitter_reddit_chat/convai2/train_none_original.txt')"
   ]
  },
  {
   "cell_type": "code",
   "execution_count": 26,
   "metadata": {
    "collapsed": true
   },
   "outputs": [],
   "source": [
    "## quac data"
   ]
  },
  {
   "cell_type": "code",
   "execution_count": 27,
   "metadata": {
    "collapsed": true
   },
   "outputs": [],
   "source": [
    "quacjson = json.load(open(\"QA/quac_train_v0.2.json\"))\n"
   ]
  },
  {
   "cell_type": "code",
   "execution_count": 28,
   "metadata": {},
   "outputs": [
    {
     "data": {
      "text/plain": [
       "dict_keys(['paragraphs', 'section_title', 'background', 'title'])"
      ]
     },
     "execution_count": 28,
     "metadata": {},
     "output_type": "execute_result"
    }
   ],
   "source": [
    "quacjson['data'][0].keys()"
   ]
  },
  {
   "cell_type": "code",
   "execution_count": 29,
   "metadata": {
    "collapsed": true,
    "scrolled": false
   },
   "outputs": [],
   "source": [
    "quacdata = []\n",
    "for x in quacjson['data']:\n",
    "    for t in x['paragraphs']:\n",
    "        for z in t['qas']:\n",
    "            q = z['question'].strip().lower()\n",
    "            a = z['orig_answer']['text'].strip().lower()\n",
    "            if q is not '':\n",
    "                quacdata.append(q)\n",
    "            if a is not '' and a is not 'cannotanswer':\n",
    "                quacdata.append(a)\n"
   ]
  },
  {
   "cell_type": "code",
   "execution_count": 31,
   "metadata": {
    "collapsed": true
   },
   "outputs": [],
   "source": [
    "## combine all data, perform preprocessing"
   ]
  },
  {
   "cell_type": "code",
   "execution_count": 32,
   "metadata": {
    "collapsed": true
   },
   "outputs": [],
   "source": [
    "data = quacdata + convai2data + dailydia + tweetcorp + dias + moviecorp\n",
    "data = list(set(data))"
   ]
  },
  {
   "cell_type": "code",
   "execution_count": 23,
   "metadata": {
    "collapsed": true
   },
   "outputs": [],
   "source": [
    "## remove noise and special chars\n",
    "http_sub=re.compile(r\"http\\S+\")\n",
    "\n",
    "emoji_pattern = re.compile(\"[\"\n",
    "        u\"\\U0001F600-\\U0001F64F\"  # emoticons\n",
    "        u\"\\U0001F300-\\U0001F5FF\"  # symbols & pictographs\n",
    "        u\"\\U0001F680-\\U0001F6FF\"  # transport & map symbols\n",
    "        u\"\\U0001F1E0-\\U0001F1FF\"  # flags (iOS)\n",
    "        u\"\\U0001f199-\\U0001f918\"\n",
    "        u\"\\U0001f0cf-\\U000fec2c\"\n",
    "        #u\"\\u0101-\\uffffe3\"\n",
    "        u\"\\u00002026\" #ellipsis\n",
    "        \"0123456789@#$$%^&*(){}|+_\\-=\\\"\\';\\?\\.!,:/<>~`\\]\\[\"                   \"]+\", flags=re.UNICODE) # 2 datasets -  with and without removing ?,.,,,!\n",
    "\n",
    "multispace = re.compile(\" +\")"
   ]
  },
  {
   "cell_type": "code",
   "execution_count": 16,
   "metadata": {
    "collapsed": true
   },
   "outputs": [],
   "source": [
    "## remove multiple instances of punctuation - incase including punctuation, for a different type of model\n",
    "multiq = re.compile(\"\\?+\")\n",
    "multiex = re.compile(\"!+\")\n",
    "multidot = re.compile(\"\\.+\")\n",
    "multicomma = re.compile(\",+\")\n",
    "\n",
    "def remrep(t_t,punct):\n",
    "    t_t = t_t.split(punct)\n",
    "    t_t = [x.strip() for i, x in enumerate(t_t) if x.strip() != '']\n",
    "    punct = ' '+punct+' '\n",
    "    t_t = punct.join(t_t)\n",
    "    return t_t\n",
    "\n",
    "def subpuncts(t_t):\n",
    "    t_t = multiq.sub('?',t_t)\n",
    "    t_t = multiex.sub('!',t_t)\n",
    "    t_t = multidot.sub('.',t_t)\n",
    "    t_t = multicomma.sub('.',t_t)\n",
    "\n",
    "    t_t = remrep(t_t,'?')\n",
    "    t_t = remrep(t_t,'!')\n",
    "    t_t = remrep(t_t,'.')\n",
    "    t_t = remrep(t_t,',')\n",
    "    \n",
    "    return t_t\n",
    "\n",
    "def denoise(dat):\n",
    "    for i in range(len(dat)):\n",
    "        temp = dat[i]\n",
    "        temp = emoji_pattern.sub('',temp)\n",
    "        temp = http_sub.sub('<link>',temp)\n",
    "        temp = multispace.sub(' ',temp)\n",
    "\n",
    "        temp = temp.strip()\n",
    "        temp = temp + ' <eos>'    \n",
    "        ## punctuation processing\n",
    "        temp = subpuncts(temp)\n",
    "        temp = temp.rsplit(' ', 1)[0]\n",
    "        dat[i] = temp\n",
    "        return dat"
   ]
  },
  {
   "cell_type": "code",
   "execution_count": null,
   "metadata": {
    "collapsed": true
   },
   "outputs": [],
   "source": []
  },
  {
   "cell_type": "code",
   "execution_count": null,
   "metadata": {
    "collapsed": true
   },
   "outputs": [],
   "source": [
    "## denoise data\n",
    "data = denoise(data)"
   ]
  },
  {
   "cell_type": "code",
   "execution_count": null,
   "metadata": {
    "collapsed": true
   },
   "outputs": [],
   "source": []
  },
  {
   "cell_type": "code",
   "execution_count": 12,
   "metadata": {
    "collapsed": true
   },
   "outputs": [],
   "source": [
    "## if needed split data into questions, statements - process them separateley\n",
    "q_end = []\n",
    "q_middle = []\n",
    "q_all = []\n",
    "stats = []"
   ]
  },
  {
   "cell_type": "code",
   "execution_count": 13,
   "metadata": {
    "collapsed": true
   },
   "outputs": [],
   "source": [
    "for x in data:\n",
    "    if '?' in x:\n",
    "        qpos = x.index('?')\n",
    "        #x = x.replace('?','').strip()\n",
    "        q_all.append(x)\n",
    "        if qpos == (len(x) - 1):\n",
    "            q_end.append(x)\n",
    "            continue\n",
    "        q_middle.append(x)\n",
    "        continue\n",
    "    stats.append(x)"
   ]
  },
  {
   "cell_type": "code",
   "execution_count": 35,
   "metadata": {
    "collapsed": true
   },
   "outputs": [],
   "source": [
    "#random.shuffle(q_all)\n",
    "#random.shuffle(stats)"
   ]
  },
  {
   "cell_type": "code",
   "execution_count": 51,
   "metadata": {
    "collapsed": true
   },
   "outputs": [],
   "source": [
    "## denoise statements\n",
    "stats = denoise(stats)\n",
    "## denoise questions\n",
    "q_all = denoise(q_all)"
   ]
  },
  {
   "cell_type": "code",
   "execution_count": 53,
   "metadata": {
    "collapsed": true
   },
   "outputs": [],
   "source": [
    "## equalize lengths of split\n",
    "q_all = q_all[:200000]\n",
    "stats = stats[:200000]"
   ]
  },
  {
   "cell_type": "code",
   "execution_count": 56,
   "metadata": {
    "collapsed": true
   },
   "outputs": [],
   "source": [
    "alldat = q_all + stats"
   ]
  },
  {
   "cell_type": "code",
   "execution_count": 57,
   "metadata": {
    "collapsed": true
   },
   "outputs": [],
   "source": [
    "## shuffle data\n",
    "random.shuffle(alldat)"
   ]
  },
  {
   "cell_type": "code",
   "execution_count": 60,
   "metadata": {
    "collapsed": true
   },
   "outputs": [],
   "source": [
    "with open('alldat_no_punct.txt','w') as f:\n",
    "    for x in alldat:\n",
    "        #print(x)\n",
    "        if x is None or x is '':\n",
    "            continue\n",
    "        f.write(x)\n",
    "        f.write('\\n')\n",
    "f.close()"
   ]
  },
  {
   "cell_type": "code",
   "execution_count": null,
   "metadata": {
    "collapsed": true
   },
   "outputs": [],
   "source": []
  },
  {
   "cell_type": "code",
   "execution_count": null,
   "metadata": {
    "collapsed": true
   },
   "outputs": [],
   "source": []
  },
  {
   "cell_type": "code",
   "execution_count": null,
   "metadata": {
    "collapsed": true
   },
   "outputs": [],
   "source": [
    "## test dat Processing"
   ]
  },
  {
   "cell_type": "code",
   "execution_count": 24,
   "metadata": {
    "collapsed": true
   },
   "outputs": [],
   "source": [
    "f = open('test-inputs.txt')\n",
    "testdata = f.read().split('\\n')"
   ]
  },
  {
   "cell_type": "code",
   "execution_count": 25,
   "metadata": {},
   "outputs": [],
   "source": [
    "## denoise testdata\n",
    "testdat = denoise(testdata)"
   ]
  },
  {
   "cell_type": "code",
   "execution_count": 27,
   "metadata": {},
   "outputs": [],
   "source": [
    "with open('testdat_punct.txt','w') as f:\n",
    "    for x in testdat:\n",
    "        ## continue if null string\n",
    "        if x is None or x is '':\n",
    "            continue\n",
    "        f.write(x)\n",
    "        f.write('\\n')\n",
    "f.close()"
   ]
  }
 ],
 "metadata": {
  "kernelspec": {
   "display_name": "Python 2",
   "language": "python",
   "name": "python2"
  },
  "language_info": {
   "codemirror_mode": {
    "name": "ipython",
    "version": 2
   },
   "file_extension": ".py",
   "mimetype": "text/x-python",
   "name": "python",
   "nbconvert_exporter": "python",
   "pygments_lexer": "ipython2",
   "version": "2.7.12"
  }
 },
 "nbformat": 4,
 "nbformat_minor": 2
}
